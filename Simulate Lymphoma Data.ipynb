{
 "cells": [
  {
   "cell_type": "markdown",
   "id": "0504564c",
   "metadata": {},
   "source": [
    "This archive is a simulation of an AB Test, considering an study for the incidence of malignant lymphoma among tattooed and non-tattooed  people."
   ]
  },
  {
   "cell_type": "markdown",
   "id": "23fa3dd7",
   "metadata": {},
   "source": [
    "As first step, we import the libraries we are using."
   ]
  },
  {
   "cell_type": "code",
   "execution_count": 2,
   "id": "9123aaf5",
   "metadata": {},
   "outputs": [],
   "source": [
    "import numpy as np\n",
    "import pandas as pd\n",
    "from scipy.stats import chi2_contingency"
   ]
  },
  {
   "cell_type": "markdown",
   "id": "3885591a",
   "metadata": {},
   "source": [
    "Then we generate two arrays for the simulated samples of non-tattooed and tattooed group, using numpy random.choice() and the probabilities of 0.18 and 0.21 respectively as indicated on:\n",
    "\n",
    "https://www.sciencedirect.com/science/article/pii/S2589537024002281#sec6"
   ]
  },
  {
   "cell_type": "code",
   "execution_count": 3,
   "id": "805509d1",
   "metadata": {},
   "outputs": [],
   "source": [
    "tattoo_sample = np.random.choice(['limphoma', 'no_limphoma'], size = 5000, p = [0.21,  0.79])\n",
    "no_tattoo_sample = np.random.choice(['limphoma', 'no_limphoma'], size = 5000, p = [0.18,  0.82])"
   ]
  },
  {
   "cell_type": "markdown",
   "id": "e3992e60",
   "metadata": {},
   "source": [
    "Then we concatenate both simulated sampes on a Single Data Frame"
   ]
  },
  {
   "cell_type": "code",
   "execution_count": 4,
   "id": "4a4ff0ed",
   "metadata": {},
   "outputs": [
    {
     "name": "stdout",
     "output_type": "stream",
     "text": [
      "  has_tattoo has_limphoma\n",
      "0     tattoo  no_limphoma\n",
      "1     tattoo  no_limphoma\n",
      "2     tattoo  no_limphoma\n",
      "3     tattoo  no_limphoma\n",
      "4     tattoo  no_limphoma\n",
      "     has_tattoo has_limphoma\n",
      "9995  no_tattoo     limphoma\n",
      "9996  no_tattoo  no_limphoma\n",
      "9997  no_tattoo  no_limphoma\n",
      "9998  no_tattoo  no_limphoma\n",
      "9999  no_tattoo  no_limphoma\n"
     ]
    }
   ],
   "source": [
    "group = ['tattoo']*5000 + ['no_tattoo']*5000\n",
    "outcome = list(tattoo_sample) + list(no_tattoo_sample)\n",
    "sim_data = {'has_tattoo': group, 'has_limphoma': outcome}\n",
    "sim_data = pd.DataFrame(sim_data)\n",
    "print(sim_data.head())\n",
    "print(sim_data.tail())"
   ]
  },
  {
   "cell_type": "markdown",
   "id": "ee45e59d",
   "metadata": {},
   "source": [
    "Then we create our contingency table, counting the cases between groups and its outcomes:"
   ]
  },
  {
   "cell_type": "code",
   "execution_count": 9,
   "id": "16c33959",
   "metadata": {},
   "outputs": [
    {
     "data": {
      "text/html": [
       "<div>\n",
       "<style scoped>\n",
       "    .dataframe tbody tr th:only-of-type {\n",
       "        vertical-align: middle;\n",
       "    }\n",
       "\n",
       "    .dataframe tbody tr th {\n",
       "        vertical-align: top;\n",
       "    }\n",
       "\n",
       "    .dataframe thead th {\n",
       "        text-align: right;\n",
       "    }\n",
       "</style>\n",
       "<table border=\"1\" class=\"dataframe\">\n",
       "  <thead>\n",
       "    <tr style=\"text-align: right;\">\n",
       "      <th>has_limphoma</th>\n",
       "      <th>limphoma</th>\n",
       "      <th>no_limphoma</th>\n",
       "    </tr>\n",
       "    <tr>\n",
       "      <th>has_tattoo</th>\n",
       "      <th></th>\n",
       "      <th></th>\n",
       "    </tr>\n",
       "  </thead>\n",
       "  <tbody>\n",
       "    <tr>\n",
       "      <th>no_tattoo</th>\n",
       "      <td>914</td>\n",
       "      <td>4086</td>\n",
       "    </tr>\n",
       "    <tr>\n",
       "      <th>tattoo</th>\n",
       "      <td>1024</td>\n",
       "      <td>3976</td>\n",
       "    </tr>\n",
       "  </tbody>\n",
       "</table>\n",
       "</div>"
      ],
      "text/plain": [
       "has_limphoma  limphoma  no_limphoma\n",
       "has_tattoo                         \n",
       "no_tattoo          914         4086\n",
       "tattoo            1024         3976"
      ]
     },
     "execution_count": 9,
     "metadata": {},
     "output_type": "execute_result"
    }
   ],
   "source": [
    "ab_contingency = pd.crosstab(sim_data.has_tattoo, sim_data.has_limphoma)\n",
    "ab_contingency"
   ]
  },
  {
   "cell_type": "markdown",
   "id": "8519f06d",
   "metadata": {},
   "source": [
    "Then we calculate the p-value of the Chi-Sqare Test to see if there is a significant difference among groups:"
   ]
  },
  {
   "cell_type": "code",
   "execution_count": 6,
   "id": "27732d08",
   "metadata": {},
   "outputs": [
    {
     "name": "stdout",
     "output_type": "stream",
     "text": [
      "For this simulation, the difference in between limphoma incidence is significant, because the pval is 8.661628192324232e-07.\n"
     ]
    }
   ],
   "source": [
    "chi2, pval, dof, expected = chi2_contingency(ab_contingency)\n",
    "\n",
    "result = ('significant' if pval < 0.05 else 'not significant')\n",
    "print(f'For this simulation, the difference in between limphoma incidence is {result}, because the pval is {pval}.')"
   ]
  },
  {
   "cell_type": "markdown",
   "id": "10082876",
   "metadata": {},
   "source": [
    "After that, we re run the Test for 100 times, to record the whether the results are 'significant' or 'not significant', allowing us to estimate the Power of the Test. "
   ]
  },
  {
   "cell_type": "code",
   "execution_count": 12,
   "id": "21129b58",
   "metadata": {},
   "outputs": [],
   "source": [
    "results = []\n",
    "for i in range(100):\n",
    "    # We randomly set the two groups (tattoo and no_tattoo) with their respectively limphoma probabilities \n",
    "    tattoo_sample = np.random.choice(['limphoma', 'no_limphoma'], size = 5000, p = [0.21,  0.79])\n",
    "    no_tattoo_sample = np.random.choice(['limphoma', 'no_limphoma'], size = 5000, p = [0.18,  0.82])\n",
    "    group = ['tattoo']*5000 + ['no_tattoo']*5000\n",
    "    # We put our simulated data into a Pandas DataFrame\n",
    "    outcome = list(tattoo_sample) + list(no_tattoo_sample)\n",
    "    sim_data = {'has_tattoo': group, 'has_limphoma': outcome}\n",
    "    sim_data = pd.DataFrame(sim_data)\n",
    "    #Contingency Table\n",
    "    ab_contingency = pd.crosstab(sim_data.has_tattoo, sim_data.has_limphoma)\n",
    "#     print(ab_contingency)\n",
    "    \n",
    "    # We run the Chi-squared test for \n",
    "    chi2, pval, dof, expected = chi2_contingency(ab_contingency)\n",
    "    result = ('significant' if pval < 0.05 else 'not significant')\n",
    "    results.append(result)\n",
    "# print(results)"
   ]
  },
  {
   "cell_type": "code",
   "execution_count": 13,
   "id": "211ccb99",
   "metadata": {},
   "outputs": [
    {
     "name": "stdout",
     "output_type": "stream",
     "text": [
      "6\n"
     ]
    }
   ],
   "source": [
    "count = 0\n",
    "for i in results:\n",
    "    if i == 'not significant':\n",
    "        count += 1\n",
    "print(count)"
   ]
  },
  {
   "cell_type": "markdown",
   "id": "5a80ed90",
   "metadata": {},
   "source": [
    "Conclusion, for this sample size, the power of the test surrouns the 95%, having the least 'False Positive'-Type 1 errors possible."
   ]
  }
 ],
 "metadata": {
  "kernelspec": {
   "display_name": "Python 3 (ipykernel)",
   "language": "python",
   "name": "python3"
  },
  "language_info": {
   "codemirror_mode": {
    "name": "ipython",
    "version": 3
   },
   "file_extension": ".py",
   "mimetype": "text/x-python",
   "name": "python",
   "nbconvert_exporter": "python",
   "pygments_lexer": "ipython3",
   "version": "3.10.9"
  }
 },
 "nbformat": 4,
 "nbformat_minor": 5
}
